{
 "cells": [
  {
   "cell_type": "code",
   "execution_count": 1,
   "id": "9792ea2d-001a-4c80-8d52-da5ed6e89e6a",
   "metadata": {},
   "outputs": [],
   "source": [
    "import pandas as pd\n",
    "import numpy as np\n",
    "import matplotlib.pyplot as plt"
   ]
  },
  {
   "cell_type": "code",
   "execution_count": 2,
   "id": "4dc50534-5c12-4c64-91f9-ca01f46d2053",
   "metadata": {},
   "outputs": [
    {
     "name": "stderr",
     "output_type": "stream",
     "text": [
      "Copying files: 13024 files [00:06, 1884.96 files/s]\n"
     ]
    }
   ],
   "source": [
    "import splitfolders\n",
    "splitfolders.ratio(\"data/\", output=\"split-data/\",\n",
    "                   seed = 42, ratio=(0.8, 0.15, 0.05))"
   ]
  },
  {
   "cell_type": "code",
   "execution_count": 3,
   "id": "791a72e3-3086-4d8d-9db8-437f70edfc9f",
   "metadata": {},
   "outputs": [
    {
     "data": {
      "text/plain": [
       "'\\nfor folder in os.listdir(directory):\\n    folder_path = os.path.join(directory, folder)\\n    if not os.path.isdir(folder_path):\\n        continue\\n        \\n    count=1\\n    for filename in os.listdir(folder_path):\\n        old_path = os.path.join(folder_path, filename)\\n        if not os.path.isfile(old_path):\\n            continue\\n        extension = os.path.splitext(filename)[1] #retrieves extension by splitting on the filename\\n        new_name = f\"{folder}_{count:04d}{extension}\"\\n        new_path = os.path.join(folder_path, new_name)\\n        \\n        os.rename(old_path, new_path)\\n        #print(f\"Renamed {old_path} to {new_path}\")\\n        count+=1\\n'"
      ]
     },
     "execution_count": 3,
     "metadata": {},
     "output_type": "execute_result"
    }
   ],
   "source": [
    "#Renaming filenames\n",
    "\n",
    "import os\n",
    "directory = \"split-data/train/\"\n",
    "\n",
    "'''\n",
    "##debugging file access (getting comfortable with 'os' and file handling in general)\n",
    "\n",
    "for folder in os.listdir(directory): #'listdir' returns a list of all files/directories in the specified\n",
    "    print(\" \")\n",
    "    count = 0\n",
    "    if not os.path.isdir(folder): #'isdir' returns a boolean value: True if the current object is a directory, False otherwise\n",
    "                              #this is to combat 'listdir' listing hidden files (such as .DS_Store on MacOS), causing errors\n",
    "        continue\n",
    "        \n",
    "    folder_path = os.path.join(directory, folder) #'join' concatenates the first/second argument (creating a new path)\n",
    "    print(folder_path)\n",
    "    for filename in os.listdir(folder_path):\n",
    "        old_path = os.path.join(folder_path, filename)\n",
    "        print(old_path)\n",
    "        count+=1\n",
    "        if count == 3:\n",
    "            break\n",
    "'''\n",
    "\n",
    "\n",
    "##Actually renaming the files:\n",
    "'''\n",
    "for folder in os.listdir(directory):\n",
    "    folder_path = os.path.join(directory, folder)\n",
    "    if not os.path.isdir(folder_path):\n",
    "        continue\n",
    "        \n",
    "    count=1\n",
    "    for filename in os.listdir(folder_path):\n",
    "        old_path = os.path.join(folder_path, filename)\n",
    "        if not os.path.isfile(old_path):\n",
    "            continue\n",
    "        extension = os.path.splitext(filename)[1] #retrieves extension by splitting on the filename\n",
    "        new_name = f\"{folder}_{count:04d}{extension}\"\n",
    "        new_path = os.path.join(folder_path, new_name)\n",
    "        \n",
    "        os.rename(old_path, new_path)\n",
    "        #print(f\"Renamed {old_path} to {new_path}\")\n",
    "        count+=1\n",
    "'''"
   ]
  },
  {
   "cell_type": "code",
   "execution_count": 4,
   "id": "0e3f3db3-d189-45cd-9bb1-d47806f90297",
   "metadata": {},
   "outputs": [],
   "source": [
    "import tensorflow as tf\n",
    "from tensorflow.keras.preprocessing.image import ImageDataGenerator"
   ]
  },
  {
   "cell_type": "code",
   "execution_count": 6,
   "id": "a92ebbfb-fae6-4917-af30-b70ff7096b19",
   "metadata": {},
   "outputs": [
    {
     "data": {
      "text/plain": [
       "'\\ntrain_datagen = ImageDataGenerator(rescale = 1.0/255.0,\\n                                  )\\n\\ntrain_set = train_datagen.flow_from_directory(directory,\\n                                              target_size = (224,224),\\n                                              color_mode = \"rgb\",\\n'"
      ]
     },
     "execution_count": 6,
     "metadata": {},
     "output_type": "execute_result"
    }
   ],
   "source": [
    "#applying transformations (not finalized)\n",
    "'''\n",
    "train_datagen = ImageDataGenerator(rescale = 1.0/255.0,\n",
    "                                  )\n",
    "\n",
    "train_set = train_datagen.flow_from_directory(directory,\n",
    "                                              target_size = (224,224),\n",
    "                                              color_mode = \"rgb\",\n",
    "'''"
   ]
  },
  {
   "cell_type": "code",
   "execution_count": null,
   "id": "f702e748-eb61-4746-a659-9799e3dea604",
   "metadata": {},
   "outputs": [],
   "source": []
  },
  {
   "cell_type": "code",
   "execution_count": null,
   "id": "44ec390e-47bc-4816-959f-2c5af34d5b71",
   "metadata": {},
   "outputs": [],
   "source": []
  }
 ],
 "metadata": {
  "kernelspec": {
   "display_name": "Python 3 (ipykernel)",
   "language": "python",
   "name": "python3"
  },
  "language_info": {
   "codemirror_mode": {
    "name": "ipython",
    "version": 3
   },
   "file_extension": ".py",
   "mimetype": "text/x-python",
   "name": "python",
   "nbconvert_exporter": "python",
   "pygments_lexer": "ipython3",
   "version": "3.12.7"
  }
 },
 "nbformat": 4,
 "nbformat_minor": 5
}
