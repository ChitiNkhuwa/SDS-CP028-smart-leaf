{
 "cells": [
  {
   "cell_type": "code",
   "execution_count": 1,
   "id": "9792ea2d-001a-4c80-8d52-da5ed6e89e6a",
   "metadata": {},
   "outputs": [],
   "source": [
    "import pandas as pd\n",
    "import numpy as np\n",
    "import matplotlib.pyplot as plt"
   ]
  },
  {
   "cell_type": "code",
   "execution_count": 2,
   "id": "4dc50534-5c12-4c64-91f9-ca01f46d2053",
   "metadata": {},
   "outputs": [
    {
     "name": "stderr",
     "output_type": "stream",
     "text": [
      "Copying files: 13024 files [00:08, 1586.72 files/s]\n"
     ]
    }
   ],
   "source": [
    "import splitfolders\n",
    "\n",
    "#(The following code need not be run again so it's commented out)\n",
    "splitfolders.ratio(\"data/\", output=\"split-data/\",\n",
    "                   seed = 42, ratio=(0.8, 0.15, 0.05))"
   ]
  },
  {
   "cell_type": "code",
   "execution_count": 3,
   "id": "791a72e3-3086-4d8d-9db8-437f70edfc9f",
   "metadata": {},
   "outputs": [],
   "source": [
    "#Renaming filenames\n",
    "\n",
    "import os\n",
    "directory = \"split-data/train/\"\n",
    "\n",
    "'''\n",
    "##debugging file access (getting comfortable with 'os' and file handling in general)\n",
    "\n",
    "for folder in os.listdir(directory): #'listdir' returns a list of all files/directories in the specified\n",
    "    print(\" \")\n",
    "    count = 0\n",
    "    if not os.path.isdir(folder): #'isdir' returns a boolean value: True if the current object is a directory, False otherwise\n",
    "                              #this is to combat 'listdir' listing hidden files (such as .DS_Store on MacOS), causing errors\n",
    "        continue\n",
    "        \n",
    "    folder_path = os.path.join(directory, folder) #'join' concatenates the first/second argument (creating a new path)\n",
    "    print(folder_path)\n",
    "    for filename in os.listdir(folder_path):\n",
    "        old_path = os.path.join(folder_path, filename)\n",
    "        print(old_path)\n",
    "        count+=1\n",
    "        if count == 3:\n",
    "            break\n",
    "'''\n",
    "\n",
    "\n",
    "##Actually renaming the files:\n",
    "\n",
    "for folder in os.listdir(directory):\n",
    "    folder_path = os.path.join(directory, folder)\n",
    "    if not os.path.isdir(folder_path):\n",
    "        continue\n",
    "        \n",
    "    count=1\n",
    "    for filename in os.listdir(folder_path):\n",
    "        old_path = os.path.join(folder_path, filename)\n",
    "        if not os.path.isfile(old_path):\n",
    "            continue\n",
    "        extension = os.path.splitext(filename)[1] #retrieves extension by splitting on the filename\n",
    "        new_name = f\"{folder}_{count:04d}{extension}\"\n",
    "        new_path = os.path.join(folder_path, new_name)\n",
    "        \n",
    "        os.rename(old_path, new_path)\n",
    "        #print(f\"Renamed {old_path} to {new_path}\")\n",
    "        count+=1"
   ]
  },
  {
   "cell_type": "code",
   "execution_count": 4,
   "id": "0e3f3db3-d189-45cd-9bb1-d47806f90297",
   "metadata": {},
   "outputs": [],
   "source": [
    "import tensorflow as tf\n",
    "from tensorflow.keras.preprocessing.image import ImageDataGenerator"
   ]
  },
  {
   "cell_type": "code",
   "execution_count": 16,
   "id": "a92ebbfb-fae6-4917-af30-b70ff7096b19",
   "metadata": {},
   "outputs": [
    {
     "name": "stdout",
     "output_type": "stream",
     "text": [
      "Found 10414 images belonging to 14 classes.\n",
      "Found 1947 images belonging to 14 classes.\n",
      "Found 663 images belonging to 14 classes.\n"
     ]
    }
   ],
   "source": [
    "#applying transformations (not finalized)\n",
    "\n",
    "train_datagen = ImageDataGenerator(rescale = 1.0/255.0,\n",
    "                                   shear_range = 0.1,\n",
    "                                   rotation_range = 10,\n",
    "                                   brightness_range = [0.8,1.2],\n",
    "                                   horizontal_flip = True)\n",
    "\n",
    "train_set = train_datagen.flow_from_directory(directory,\n",
    "                                              target_size = (224,224),\n",
    "                                              color_mode = \"rgb\",\n",
    "                                              class_mode = 'categorical',\n",
    "                                              batch_size = 32,\n",
    "                                              shuffle = True, #we don't want the model to memorize the order of the images\n",
    "                                              seed = 42)\n",
    "\n",
    "validation_datagen = ImageDataGenerator(rescale=1.0/255.0)\n",
    "\n",
    "validation_set = validation_datagen.flow_from_directory(\"split-data/val\",\n",
    "                                                        target_size=(224, 224),\n",
    "                                                        batch_size=32,\n",
    "                                                        class_mode='categorical',\n",
    "                                                        shuffle=False)\n",
    "\n",
    "test_datagen = ImageDataGenerator(rescale=1.0/255.0)\n",
    "\n",
    "test_set = test_datagen.flow_from_directory('split-data/test',\n",
    "                                            target_size=(224, 224),\n",
    "                                            batch_size=32,\n",
    "                                            class_mode='categorical',\n",
    "                                            shuffle=False)"
   ]
  },
  {
   "cell_type": "code",
   "execution_count": 13,
   "id": "44ec390e-47bc-4816-959f-2c5af34d5b71",
   "metadata": {},
   "outputs": [
    {
     "name": "stdout",
     "output_type": "stream",
     "text": [
      "0 corrputed files\n"
     ]
    }
   ],
   "source": [
    "# checking for corrupt files\n",
    "from PIL import Image\n",
    "count = 0\n",
    "for folder_name in os.listdir(directory):\n",
    "    folder_path = os.path.join(directory, folder_name)\n",
    "    if not os.path.isdir(folder_path):\n",
    "        continue\n",
    "    for filename in os.listdir(folder_path):\n",
    "        file_path = os.path.join(folder_path, filename)\n",
    "        if not os.path.isdir(file_path):\n",
    "            break\n",
    "        try:\n",
    "            im = Image.open(file_path)\n",
    "            im.verify()\n",
    "            im.close()\n",
    "        except (IOError, OSError, Image.DecompressionBombError):\n",
    "            print(f\"Fail: {filename}\")\n",
    "            count+=1\n",
    "\n",
    "print(count, \"corrputed files\")"
   ]
  },
  {
   "cell_type": "markdown",
   "id": "2dc0f725-bc47-44b2-8422-79768c9c1310",
   "metadata": {},
   "source": [
    "No corrupt files"
   ]
  },
  {
   "cell_type": "code",
   "execution_count": 15,
   "id": "f702e748-eb61-4746-a659-9799e3dea604",
   "metadata": {},
   "outputs": [
    {
     "name": "stdout",
     "output_type": "stream",
     "text": [
      "Potato_Late_Blight :  800\n",
      "Corn_Healthy :  929\n",
      "Wheat_Healthy :  892\n",
      "Corn_Common_Rust :  954\n",
      "Rice_Neck_Blast :  800\n",
      "Potato_Early_Blight :  800\n",
      "Rice_Leaf_Blast :  781\n",
      "Wheat_Yellow_Rust :  740\n",
      "Potato_Healthy :  121\n",
      "Rice_Healthy :  1191\n",
      "Corn_Gray_Leaf_Spot :  410\n",
      "Wheat_Brown_Rust :  721\n",
      "Corn_Northern_Leaf_Blight :  788\n",
      "Rice_Brown_Spot :  490\n"
     ]
    }
   ],
   "source": [
    "# exploring / handling class imbalances\n",
    "for folder_name in os.listdir(directory):\n",
    "    count = 0\n",
    "    folder_path = os.path.join(directory, folder_name)\n",
    "    if not os.path.isdir(folder_path):\n",
    "        continue\n",
    "    for filename in os.listdir(folder_path):\n",
    "        file_path = os.path.join(folder_path, filename)\n",
    "        count+=1\n",
    "    print(folder_name, \": \", count)"
   ]
  },
  {
   "cell_type": "code",
   "execution_count": null,
   "id": "a788074f-5c8a-4911-83ce-4a338f4cbcd1",
   "metadata": {},
   "outputs": [],
   "source": [
    "#we can aim to have 700-1000 images in each class\n",
    "\n",
    "'''\n",
    "Classes to be oversampled:\n",
    "- Potato Healthy: 121\n",
    "- Corn Gray Leaf Spot: 410\n",
    "- Rice Brown Spot: 490\n",
    "\n",
    "'Rice Healthy' may be undersampled to 900-1000 observations\n",
    "'''"
   ]
  }
 ],
 "metadata": {
  "kernelspec": {
   "display_name": "Python 3 (ipykernel)",
   "language": "python",
   "name": "python3"
  },
  "language_info": {
   "codemirror_mode": {
    "name": "ipython",
    "version": 3
   },
   "file_extension": ".py",
   "mimetype": "text/x-python",
   "name": "python",
   "nbconvert_exporter": "python",
   "pygments_lexer": "ipython3",
   "version": "3.12.7"
  }
 },
 "nbformat": 4,
 "nbformat_minor": 5
}
